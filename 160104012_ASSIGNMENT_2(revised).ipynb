{
  "nbformat": 4,
  "nbformat_minor": 0,
  "metadata": {
    "colab": {
      "name": "pat_rec_[3.1][assignment].ipynb",
      "provenance": [],
      "collapsed_sections": []
    },
    "kernelspec": {
      "name": "python3",
      "display_name": "Python 3"
    }
  },
  "cells": [
    {
      "cell_type": "code",
      "metadata": {
        "id": "eVd_HZnj2Ww1",
        "colab_type": "code",
        "colab": {
          "base_uri": "https://localhost:8080/",
          "height": 54
        },
        "outputId": "ee15ff57-dfc5-4fbb-e9dd-27398d128596"
      },
      "source": [
        "'''\n",
        "Course Name: Pattern Recognition Lab\n",
        "Course Number: CSE 4214\n",
        "Experiment no. 2: Implementing the Perceptron algorithm for finding the weights of a Linear Discriminant function\n",
        "\n",
        "Name: Humaira Zahin Mauni\n",
        "Section: A1\n",
        "ID: 160104012\n",
        "'''"
      ],
      "execution_count": null,
      "outputs": [
        {
          "output_type": "execute_result",
          "data": {
            "text/plain": [
              "'\\nCourse Name: Pattern Recognition Lab\\nCourse Number: CSE 4214\\nExperiment no. 2: Implementing the Perceptron algorithm for finding the weights of a Linear Discriminant function\\n\\nName: Humaira Zahin Mauni\\nSection: A1\\nID: 160104012\\n'"
            ]
          },
          "metadata": {
            "tags": []
          },
          "execution_count": 1
        }
      ]
    },
    {
      "cell_type": "code",
      "metadata": {
        "id": "ZUYdwSE6r-ZS",
        "colab_type": "code",
        "colab": {}
      },
      "source": [
        "import numpy as np\n",
        "import pandas as pd\n",
        "import io\n",
        "import matplotlib.pyplot as plt\n",
        "from google.colab import files\n"
      ],
      "execution_count": 1,
      "outputs": []
    },
    {
      "cell_type": "code",
      "metadata": {
        "id": "QguxiuglE_MO",
        "colab_type": "code",
        "colab": {
          "resources": {
            "http://localhost:8080/nbextensions/google.colab/files.js": {
              "data": "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",
              "ok": true,
              "headers": [
                [
                  "content-type",
                  "application/javascript"
                ]
              ],
              "status": 200,
              "status_text": ""
            }
          },
          "base_uri": "https://localhost:8080/",
          "height": 72
        },
        "outputId": "87189092-acf0-434c-b2f8-f6b5663d008d"
      },
      "source": [
        "## Q1\n",
        "uploaded = files.upload() #upload train.txt"
      ],
      "execution_count": 2,
      "outputs": [
        {
          "output_type": "display_data",
          "data": {
            "text/html": [
              "\n",
              "     <input type=\"file\" id=\"files-ca601895-5c59-4fb5-9c2e-921e64283b78\" name=\"files[]\" multiple disabled\n",
              "        style=\"border:none\" />\n",
              "     <output id=\"result-ca601895-5c59-4fb5-9c2e-921e64283b78\">\n",
              "      Upload widget is only available when the cell has been executed in the\n",
              "      current browser session. Please rerun this cell to enable.\n",
              "      </output>\n",
              "      <script src=\"/nbextensions/google.colab/files.js\"></script> "
            ],
            "text/plain": [
              "<IPython.core.display.HTML object>"
            ]
          },
          "metadata": {
            "tags": []
          }
        },
        {
          "output_type": "stream",
          "text": [
            "Saving train.txt to train.txt\n"
          ],
          "name": "stdout"
        }
      ]
    },
    {
      "cell_type": "code",
      "metadata": {
        "id": "EOEYNgFhauGD",
        "colab_type": "code",
        "colab": {
          "base_uri": "https://localhost:8080/",
          "height": 136
        },
        "outputId": "2e4f5de9-3dd7-41a9-c145-75077b1abfe5"
      },
      "source": [
        "df_train = pd.read_csv(io.BytesIO(uploaded['train.txt'] ), sep=\" \" ,  header = None, dtype = 'float64')\n",
        "df_train.columns = ['x1', 'x2', 'label']\n",
        "print(df_train)"
      ],
      "execution_count": 3,
      "outputs": [
        {
          "output_type": "stream",
          "text": [
            "    x1   x2  label\n",
            "0  1.0  1.0    1.0\n",
            "1  1.0 -1.0    1.0\n",
            "2  2.0  2.5    2.0\n",
            "3  0.0  2.0    2.0\n",
            "4  2.0  3.0    2.0\n",
            "5  4.0  5.0    1.0\n"
          ],
          "name": "stdout"
        }
      ]
    },
    {
      "cell_type": "code",
      "metadata": {
        "id": "gQKWjQemdIwu",
        "colab_type": "code",
        "colab": {
          "base_uri": "https://localhost:8080/",
          "height": 265
        },
        "outputId": "8d454de9-d30e-4b60-b461-b672bcb59e3b"
      },
      "source": [
        "groups = df_train.groupby('label')\n",
        "\n",
        "fig, ax = plt.subplots()\n",
        "for name, group in groups:\n",
        "  mar = 'x'\n",
        "  if name == 1.0:\n",
        "    mar = 'o'\n",
        "  name = 'Train Class ' + str(name)\n",
        "  ax.plot(group.x1, group.x2, marker= mar, linestyle='', ms=12, label=name)\n",
        "ax.legend()\n",
        "\n",
        "plt.show()"
      ],
      "execution_count": 4,
      "outputs": [
        {
          "output_type": "display_data",
          "data": {
            "image/png": "[encoded data removed]",
            "text/plain": [
              "<Figure size 432x288 with 1 Axes>"
            ]
          },
          "metadata": {
            "tags": [],
            "needs_background": "light"
          }
        }
      ]
    },
    {
      "cell_type": "code",
      "metadata": {
        "id": "vjVrwUubDkAb",
        "colab_type": "code",
        "colab": {
          "base_uri": "https://localhost:8080/",
          "height": 119
        },
        "outputId": "07dc390f-9c98-400f-85ac-dc31a8036933"
      },
      "source": [
        "#Q2\n",
        "\n",
        "data = np.zeros(shape=(6,6))\n",
        "for i in range(6):\n",
        "    data[i][0] = df_train.x1[i]**2\n",
        "    data[i][1] = df_train.x2[i]**2\n",
        "    data[i][2] = df_train.x1[i]*df_train.x2[i]\n",
        "    data[i][3] = df_train.x1[i]\n",
        "    data[i][4] = df_train.x2[i]\n",
        "    data[i][5] = 1\n",
        "print(data)"
      ],
      "execution_count": 5,
      "outputs": [
        {
          "output_type": "stream",
          "text": [
            "[[ 1.    1.    1.    1.    1.    1.  ]\n",
            " [ 1.    1.   -1.    1.   -1.    1.  ]\n",
            " [ 4.    6.25  5.    2.    2.5   1.  ]\n",
            " [ 0.    4.    0.    0.    2.    1.  ]\n",
            " [ 4.    9.    6.    2.    3.    1.  ]\n",
            " [16.   25.   20.    4.    5.    1.  ]]\n"
          ],
          "name": "stdout"
        }
      ]
    },
    {
      "cell_type": "code",
      "metadata": {
        "id": "39GVxrveDiBt",
        "colab_type": "code",
        "colab": {
          "base_uri": "https://localhost:8080/",
          "height": 119
        },
        "outputId": "d9792d5f-8710-4cea-baf8-5f3e23690bf8"
      },
      "source": [
        "for i in range(6):\n",
        "  if df_train.label[i] == 2.0:\n",
        "    data[i] = -1 * data[i]\n",
        "print(data)"
      ],
      "execution_count": 6,
      "outputs": [
        {
          "output_type": "stream",
          "text": [
            "[[ 1.    1.    1.    1.    1.    1.  ]\n",
            " [ 1.    1.   -1.    1.   -1.    1.  ]\n",
            " [-4.   -6.25 -5.   -2.   -2.5  -1.  ]\n",
            " [-0.   -4.   -0.   -0.   -2.   -1.  ]\n",
            " [-4.   -9.   -6.   -2.   -3.   -1.  ]\n",
            " [16.   25.   20.    4.    5.    1.  ]]\n"
          ],
          "name": "stdout"
        }
      ]
    },
    {
      "cell_type": "code",
      "metadata": {
        "id": "SQLSp8ujrYFD",
        "colab_type": "code",
        "colab": {}
      },
      "source": [
        "# Q3 and Q4\n",
        "def one_update(learning_rate, activation, weight, data):\n",
        "  counter = 0\n",
        "  while counter < 200:\n",
        "    counter += 1\n",
        "    #print(\"\\ncounter: \", counter)\n",
        "    flag = 0\n",
        "    for i in range(6):\n",
        "      activation = np.dot(data[i], np.transpose(weight))\n",
        "      if activation <= 0:\n",
        "        weight[0] = weight[0] + learning_rate*data[i]\n",
        "      if activation > 0:\n",
        "        flag = flag + 1\n",
        "      #print(\"i: \", i)\n",
        "      #print(\"activation: \", activation)\n",
        "    if (flag==6): break\n",
        "  #print(\"\\n\\nANSWER:\")\n",
        "  #print(\"flag : \", flag)\n",
        "  #print(\"weight: \", weight)\n",
        "  #print(\"counter: \", counter)\n",
        "  return weight, counter"
      ],
      "execution_count": 7,
      "outputs": []
    },
    {
      "cell_type": "code",
      "metadata": {
        "id": "SCBUlNOHRrLL",
        "colab_type": "code",
        "colab": {}
      },
      "source": [
        "def batch_update(learning_rate, activation2, weight2, data):\n",
        "  counter = 0\n",
        "  temp = 0\n",
        "  while counter < 200:\n",
        "    temp = 0\n",
        "    counter += 1\n",
        "    #print(\"\\ncounter: \", counter)\n",
        "    flag = 0\n",
        "    for i in range(6):\n",
        "      activation2 = np.dot(data[i], np.transpose(weight2))\n",
        "      if activation2 <= 0:\n",
        "        temp = temp + data[i]\n",
        "      if activation2 > 0:\n",
        "        flag = flag + 1\n",
        "      #print(\"i: \", i)\n",
        "      #print(\"activation: \", activation2)\n",
        "    if (flag==6): break\n",
        "    weight2[0] = weight2[0] + learning_rate*temp\n",
        "  #print(\"\\n\\nANSWER:\")\n",
        "  #print(\"flag : \", flag)\n",
        "  #print(\"weight: \", weight2)\n",
        "  #print(\"counter: \", counter)\n",
        "  return weight2, counter"
      ],
      "execution_count": 8,
      "outputs": []
    },
    {
      "cell_type": "code",
      "metadata": {
        "id": "Oysm-gKgir57",
        "colab_type": "code",
        "colab": {
          "base_uri": "https://localhost:8080/",
          "height": 1000
        },
        "outputId": "592701e0-754b-4749-d5e4-445dad12977a"
      },
      "source": [
        "results=[]\n",
        "results2=[]\n",
        "models=[]\n",
        "# weight = [1 1 1 1 1 1]\n",
        "print(\"\\n-----Initial Weight Vector All One:----- \\n\")\n",
        "for i in range(10):\n",
        "  learning_rate = 0.1 + (i*0.1)\n",
        "  weights, iterations = one_update(learning_rate, np.zeros((1,6), dtype=float), np.ones((1,6), dtype=float), data)\n",
        "  print(\"\\nLearning rate: \", learning_rate )\n",
        "  print(\"\\t--single update--\\n\\tWeights: \", weights, \"\\n\\tIterations: \",iterations)\n",
        "  results.append(iterations)\n",
        "\n",
        "  weights2, iterations2 = batch_update(learning_rate, np.zeros((1,6), dtype=float), np.ones((1,6), dtype=float), data)\n",
        "  print(\"\\n\\t--batch update--\\n\\tWeights: \", weights2,\"\\n\\tIterations: \",iterations2)\n",
        "  results2.append(iterations2)\n",
        "  models.append(\"\" +str(np.around(learning_rate, decimals=1)))\n",
        "\n",
        "# table\n",
        "\n",
        "from tabulate import tabulate\n",
        "x = np.array([0.1,0.2,0.3,0.4,0.5,0.6,0.7,0.8,0.9,1.0])\n",
        "\n",
        "\n",
        "col_headers = [\"Alpha (Learning Rate)\", \"One at a time\", \"Many at a time\"]\n",
        "\n",
        "merged_array = np.array([x, results, results2]).T\n",
        "table = tabulate(merged_array , col_headers, tablefmt=\"fancy_grid\", floatfmt = \".2f\")\n",
        "print(table)\n",
        "\n",
        "# graph\n",
        "objects = models\n",
        "x = np.arange(len(objects))\n",
        "width = 0.35 \n",
        "\n",
        "fig, ax = plt.subplots()\n",
        "rects1 = ax.bar(x - width/2, results, width, label='One at a time')\n",
        "rects2 = ax.bar(x + width/2, results2, width, label='Many at a time')\n",
        "\n",
        "ax.set_ylabel('Iterations')\n",
        "ax.set_title('Perceptron Comparison')\n",
        "ax.set_xticks(x)\n",
        "plt.xlabel('Learning Rate')\n",
        "ax.set_xticklabels(objects)\n",
        "ax.legend()\n",
        "\n",
        "plt.show()"
      ],
      "execution_count": 9,
      "outputs": [
        {
          "output_type": "stream",
          "text": [
            "\n",
            "-----Initial Weight Vector All One:----- \n",
            "\n",
            "\n",
            "Learning rate:  0.1\n",
            "\t--single update--\n",
            "\tWeights:  [[ 1.    -1.025  0.7    0.2   -0.75   0.1  ]] \n",
            "\tIterations:  6\n",
            "\n",
            "\t--batch update--\n",
            "\tWeights:  [[ 6.5   -4.425  2.8   -0.5   -5.45   1.2  ]] \n",
            "\tIterations:  102\n",
            "\n",
            "Learning rate:  0.2\n",
            "\t--single update--\n",
            "\tWeights:  [[ 13.8  -9.1   6.2  -2.2 -12.8   4.6]] \n",
            "\tIterations:  147\n",
            "\n",
            "\t--batch update--\n",
            "\tWeights:  [[ 13.    -8.85   5.6   -1.   -10.9    2.4 ]] \n",
            "\tIterations:  104\n",
            "\n",
            "Learning rate:  0.30000000000000004\n",
            "\t--single update--\n",
            "\tWeights:  [[ 20.8  -13.55   8.8   -3.2  -19.7    7.  ]] \n",
            "\tIterations:  149\n",
            "\n",
            "\t--batch update--\n",
            "\tWeights:  [[ 17.8   -11.825   7.9    -1.4   -15.05    2.8  ]] \n",
            "\tIterations:  91\n",
            "\n",
            "Learning rate:  0.4\n",
            "\t--single update--\n",
            "\tWeights:  [[ 27.8 -18.   11.8  -4.2 -26.2   9.4]] \n",
            "\tIterations:  149\n",
            "\n",
            "\t--batch update--\n",
            "\tWeights:  [[ 26.6 -18.   11.4  -2.2 -22.6   5.4]] \n",
            "\tIterations:  116\n",
            "\n",
            "Learning rate:  0.5\n",
            "\t--single update--\n",
            "\tWeights:  [[ 33.   -19.75  14.    -6.   -31.5   10.5 ]] \n",
            "\tIterations:  141\n",
            "\n",
            "\t--batch update--\n",
            "\tWeights:  [[ 32.5   -22.125  14.     -2.5   -27.25    6.   ]] \n",
            "\tIterations:  105\n",
            "\n",
            "Learning rate:  0.6\n",
            "\t--single update--\n",
            "\tWeights:  [[ 42.4 -26.9  17.2  -6.8 -39.8  15.4]] \n",
            "\tIterations:  157\n",
            "\n",
            "\t--batch update--\n",
            "\tWeights:  [[ 40.  -26.9  17.2  -3.2 -33.8   8.2]] \n",
            "\tIterations:  114\n",
            "\n",
            "Learning rate:  0.7000000000000001\n",
            "\t--single update--\n",
            "\tWeights:  [[ 44.4   -27.525  18.5    -7.4   -42.05   15.   ]] \n",
            "\tIterations:  136\n",
            "\n",
            "\t--batch update--\n",
            "\tWeights:  [[ 41.6   -27.525  18.5    -3.2   -35.05    6.6  ]] \n",
            "\tIterations:  91\n",
            "\n",
            "Learning rate:  0.8\n",
            "\t--single update--\n",
            "\tWeights:  [[ 50.6 -31.6  21.   -8.6 -48.2  17. ]] \n",
            "\tIterations:  136\n",
            "\n",
            "\t--batch update--\n",
            "\tWeights:  [[ 47.4 -31.6  21.   -3.8 -40.2   7.4]] \n",
            "\tIterations:  91\n",
            "\n",
            "Learning rate:  0.9\n",
            "\t--single update--\n",
            "\tWeights:  [[ 59.5  -35.45  25.3  -10.7  -56.6   19.  ]] \n",
            "\tIterations:  140\n",
            "\n",
            "\t--batch update--\n",
            "\tWeights:  [[ 57.7  -38.15  25.3   -5.3  -49.4   10.  ]] \n",
            "\tIterations:  105\n",
            "\n",
            "Learning rate:  1.0\n",
            "\t--single update--\n",
            "\tWeights:  [[ 66.  -39.5  28.  -12.  -63.   21. ]] \n",
            "\tIterations:  141\n",
            "\n",
            "\t--batch update--\n",
            "\tWeights:  [[ 60.   -38.75  25.    -4.   -51.5   10.  ]] \n",
            "\tIterations:  93\n",
            "╒═════════════════════════╤═════════════════╤══════════════════╕\n",
            "│   Alpha (Learning Rate) │   One at a time │   Many at a time │\n",
            "╞═════════════════════════╪═════════════════╪══════════════════╡\n",
            "│                    0.10 │            6.00 │           102.00 │\n",
            "├─────────────────────────┼─────────────────┼──────────────────┤\n",
            "│                    0.20 │          147.00 │           104.00 │\n",
            "├─────────────────────────┼─────────────────┼──────────────────┤\n",
            "│                    0.30 │          149.00 │            91.00 │\n",
            "├─────────────────────────┼─────────────────┼──────────────────┤\n",
            "│                    0.40 │          149.00 │           116.00 │\n",
            "├─────────────────────────┼─────────────────┼──────────────────┤\n",
            "│                    0.50 │          141.00 │           105.00 │\n",
            "├─────────────────────────┼─────────────────┼──────────────────┤\n",
            "│                    0.60 │          157.00 │           114.00 │\n",
            "├─────────────────────────┼─────────────────┼──────────────────┤\n",
            "│                    0.70 │          136.00 │            91.00 │\n",
            "├─────────────────────────┼─────────────────┼──────────────────┤\n",
            "│                    0.80 │          136.00 │            91.00 │\n",
            "├─────────────────────────┼─────────────────┼──────────────────┤\n",
            "│                    0.90 │          140.00 │           105.00 │\n",
            "├─────────────────────────┼─────────────────┼──────────────────┤\n",
            "│                    1.00 │          141.00 │            93.00 │\n",
            "╘═════════════════════════╧═════════════════╧══════════════════╛\n"
          ],
          "name": "stdout"
        },
        {
          "output_type": "display_data",
          "data": {
            "image/png": "[encoded data removed]",
            "text/plain": [
              "<Figure size 432x288 with 1 Axes>"
            ]
          },
          "metadata": {
            "tags": [],
            "needs_background": "light"
          }
        }
      ]
    },
    {
      "cell_type": "code",
      "metadata": {
        "id": "5EU3R94eU065",
        "colab_type": "code",
        "colab": {
          "base_uri": "https://localhost:8080/",
          "height": 1000
        },
        "outputId": "a0e3e97c-a04f-4f4f-cfbe-83e335f02d87"
      },
      "source": [
        "results=[]\n",
        "results2=[]\n",
        "models=[]\n",
        "# weight = [0 0 0 0 0 0]\n",
        "\n",
        "print(\"\\n-----Initial Weight Vector All Zero:----- \\n\")\n",
        "\n",
        "for i in range(10):\n",
        "  learning_rate = 0.1 + (i*0.1)\n",
        "  weights, iterations = one_update(learning_rate, np.zeros((1,6), dtype=float), np.zeros((1,6), dtype=float), data)\n",
        "  print(\"\\nLearning rate: \", learning_rate )\n",
        "  print(\"\\t--single update--\\n\\tWeights: \", weights, \"\\n\\tIterations: \",iterations)\n",
        "  results.append(iterations)\n",
        "\n",
        "  weights2, iterations2 = batch_update(learning_rate, np.zeros((1,6), dtype=float), np.zeros((1,6), dtype=float), data)\n",
        "  print(\"\\n\\t--batch update--\\n\\tWeights: \", weights2,\"\\n\\tIterations: \",iterations2)\n",
        "  results2.append(iterations2)\n",
        "  models.append(\"\" +str(np.around(learning_rate, decimals=1)))\n",
        "\n",
        "# table\n",
        "\n",
        "from tabulate import tabulate\n",
        "x = np.array([0.1,0.2,0.3,0.4,0.5,0.6,0.7,0.8,0.9,1.0])\n",
        "\n",
        "\n",
        "col_headers = [\"Alpha (Learning Rate)\", \"One at a time\", \"Many at a time\"]\n",
        "\n",
        "merged_array = np.array([x, results, results2]).T\n",
        "table = tabulate(merged_array , col_headers, tablefmt=\"fancy_grid\", floatfmt = \".2f\")\n",
        "print(table)\n",
        "\n",
        "# graph\n",
        "objects = models\n",
        "x = np.arange(len(objects))\n",
        "width = 0.35 \n",
        "\n",
        "fig, ax = plt.subplots()\n",
        "rects1 = ax.bar(x - width/2, results, width, label='One at a time')\n",
        "rects2 = ax.bar(x + width/2, results2, width, label='Many at a time')\n",
        "\n",
        "ax.set_ylabel('Iterations')\n",
        "ax.set_title('Perceptron Comparison')\n",
        "ax.set_xticks(x)\n",
        "plt.xlabel('Learning Rate')\n",
        "ax.set_xticklabels(objects)\n",
        "ax.legend()\n",
        "\n",
        "plt.show()"
      ],
      "execution_count": 10,
      "outputs": [
        {
          "output_type": "stream",
          "text": [
            "\n",
            "-----Initial Weight Vector All Zero:----- \n",
            "\n",
            "\n",
            "Learning rate:  0.1\n",
            "\t--single update--\n",
            "\tWeights:  [[ 6.6  -3.95  2.8  -1.2  -6.3   2.1 ]] \n",
            "\tIterations:  141\n",
            "\n",
            "\t--batch update--\n",
            "\tWeights:  [[ 6.5   -4.425  2.8   -0.5   -5.45   1.2  ]] \n",
            "\tIterations:  105\n",
            "\n",
            "Learning rate:  0.2\n",
            "\t--single update--\n",
            "\tWeights:  [[ 13.2  -7.9   5.6  -2.4 -12.6   4.2]] \n",
            "\tIterations:  141\n",
            "\n",
            "\t--batch update--\n",
            "\tWeights:  [[ 13.    -8.85   5.6   -1.   -10.9    2.4 ]] \n",
            "\tIterations:  105\n",
            "\n",
            "Learning rate:  0.30000000000000004\n",
            "\t--single update--\n",
            "\tWeights:  [[ 19.8  -11.85   8.4   -3.6  -18.9    6.3 ]] \n",
            "\tIterations:  141\n",
            "\n",
            "\t--batch update--\n",
            "\tWeights:  [[ 18.    -11.625   7.5    -1.2   -15.45    3.   ]] \n",
            "\tIterations:  92\n",
            "\n",
            "Learning rate:  0.4\n",
            "\t--single update--\n",
            "\tWeights:  [[ 26.4 -15.8  11.2  -4.8 -25.2   8.4]] \n",
            "\tIterations:  141\n",
            "\n",
            "\t--batch update--\n",
            "\tWeights:  [[ 26.  -17.7  11.2  -2.  -21.8   4.8]] \n",
            "\tIterations:  105\n",
            "\n",
            "Learning rate:  0.5\n",
            "\t--single update--\n",
            "\tWeights:  [[ 33.   -19.75  14.    -6.   -31.5   10.5 ]] \n",
            "\tIterations:  141\n",
            "\n",
            "\t--batch update--\n",
            "\tWeights:  [[ 30.    -19.375  12.5    -2.    -25.75    5.   ]] \n",
            "\tIterations:  92\n",
            "\n",
            "Learning rate:  0.6\n",
            "\t--single update--\n",
            "\tWeights:  [[ 39.6 -23.7  16.8  -7.2 -37.8  12.6]] \n",
            "\tIterations:  141\n",
            "\n",
            "\t--batch update--\n",
            "\tWeights:  [[ 39.   -26.55  16.8   -3.   -32.7    7.2 ]] \n",
            "\tIterations:  105\n",
            "\n",
            "Learning rate:  0.7000000000000001\n",
            "\t--single update--\n",
            "\tWeights:  [[ 46.2  -27.65  19.6   -8.4  -44.1   14.7 ]] \n",
            "\tIterations:  141\n",
            "\n",
            "\t--batch update--\n",
            "\tWeights:  [[ 45.5   -30.975  19.6    -3.5   -38.15    8.4  ]] \n",
            "\tIterations:  105\n",
            "\n",
            "Learning rate:  0.8\n",
            "\t--single update--\n",
            "\tWeights:  [[ 52.8 -31.6  22.4  -9.6 -50.4  16.8]] \n",
            "\tIterations:  141\n",
            "\n",
            "\t--batch update--\n",
            "\tWeights:  [[ 52.  -35.4  22.4  -4.  -43.6   9.6]] \n",
            "\tIterations:  105\n",
            "\n",
            "Learning rate:  0.9\n",
            "\t--single update--\n",
            "\tWeights:  [[ 59.4  -35.55  25.2  -10.8  -56.7   18.9 ]] \n",
            "\tIterations:  141\n",
            "\n",
            "\t--batch update--\n",
            "\tWeights:  [[ 58.5   -39.825  25.2    -4.5   -49.05   10.8  ]] \n",
            "\tIterations:  105\n",
            "\n",
            "Learning rate:  1.0\n",
            "\t--single update--\n",
            "\tWeights:  [[ 66.  -39.5  28.  -12.  -63.   21. ]] \n",
            "\tIterations:  141\n",
            "\n",
            "\t--batch update--\n",
            "\tWeights:  [[ 60.   -38.75  25.    -4.   -51.5   10.  ]] \n",
            "\tIterations:  92\n",
            "╒═════════════════════════╤═════════════════╤══════════════════╕\n",
            "│   Alpha (Learning Rate) │   One at a time │   Many at a time │\n",
            "╞═════════════════════════╪═════════════════╪══════════════════╡\n",
            "│                    0.10 │          141.00 │           105.00 │\n",
            "├─────────────────────────┼─────────────────┼──────────────────┤\n",
            "│                    0.20 │          141.00 │           105.00 │\n",
            "├─────────────────────────┼─────────────────┼──────────────────┤\n",
            "│                    0.30 │          141.00 │            92.00 │\n",
            "├─────────────────────────┼─────────────────┼──────────────────┤\n",
            "│                    0.40 │          141.00 │           105.00 │\n",
            "├─────────────────────────┼─────────────────┼──────────────────┤\n",
            "│                    0.50 │          141.00 │            92.00 │\n",
            "├─────────────────────────┼─────────────────┼──────────────────┤\n",
            "│                    0.60 │          141.00 │           105.00 │\n",
            "├─────────────────────────┼─────────────────┼──────────────────┤\n",
            "│                    0.70 │          141.00 │           105.00 │\n",
            "├─────────────────────────┼─────────────────┼──────────────────┤\n",
            "│                    0.80 │          141.00 │           105.00 │\n",
            "├─────────────────────────┼─────────────────┼──────────────────┤\n",
            "│                    0.90 │          141.00 │           105.00 │\n",
            "├─────────────────────────┼─────────────────┼──────────────────┤\n",
            "│                    1.00 │          141.00 │            92.00 │\n",
            "╘═════════════════════════╧═════════════════╧══════════════════╛\n"
          ],
          "name": "stdout"
        },
        {
          "output_type": "display_data",
          "data": {
            "image/png": "[encoded data removed]",
            "text/plain": [
              "<Figure size 432x288 with 1 Axes>"
            ]
          },
          "metadata": {
            "tags": [],
            "needs_background": "light"
          }
        }
      ]
    },
    {
      "cell_type": "code",
      "metadata": {
        "id": "zIdAaktOVKu8",
        "colab_type": "code",
        "colab": {
          "base_uri": "https://localhost:8080/",
          "height": 1000
        },
        "outputId": "29a7219c-df20-4665-e0b8-84ca733b22b6"
      },
      "source": [
        "# weight = random \n",
        "\n",
        "results=[]\n",
        "results2=[]\n",
        "models=[]\n",
        "\n",
        "print(\"\\n-----Initial Weight Vector random:----- \\n\")\n",
        "\n",
        "for i in range(10):\n",
        "  learning_rate = 0.1 + (i*0.1)\n",
        "  weights, iterations = one_update(learning_rate, np.zeros((1,6), dtype=float), np.random.sample(size =(1, 6)) , data)\n",
        "  print(\"\\nLearning rate: \", learning_rate )\n",
        "  print(\"\\t--single update--\\n\\tWeights: \", weights, \"\\n\\tIterations: \",iterations)\n",
        "  results.append(iterations)\n",
        "\n",
        "  weights2, iterations2 = batch_update(learning_rate, np.zeros((1,6), dtype=float), np.random.sample(size =(1, 6)) , data)\n",
        "  print(\"\\n\\t--batch update--\\n\\tWeights: \", weights2,\"\\n\\tIterations: \",iterations2)\n",
        "  results2.append(iterations2)\n",
        "  models.append(\"\" +str(np.around(learning_rate, decimals=1)))\n",
        "\n",
        "# table\n",
        "\n",
        "from tabulate import tabulate\n",
        "x = np.array([0.1,0.2,0.3,0.4,0.5,0.6,0.7,0.8,0.9,1.0])\n",
        "\n",
        "\n",
        "col_headers = [\"Alpha (Learning Rate)\", \"One at a time\", \"Many at a time\"]\n",
        "\n",
        "merged_array = np.array([x, results, results2]).T\n",
        "table = tabulate(merged_array , col_headers, tablefmt=\"fancy_grid\", floatfmt = \".2f\")\n",
        "print(table)\n",
        "\n",
        "# graph\n",
        "objects = models\n",
        "x = np.arange(len(objects))\n",
        "width = 0.35 \n",
        "\n",
        "fig, ax = plt.subplots()\n",
        "rects1 = ax.bar(x - width/2, results, width, label='One at a time')\n",
        "rects2 = ax.bar(x + width/2, results2, width, label='Many at a time')\n",
        "\n",
        "ax.set_ylabel('Iterations')\n",
        "ax.set_title('Perceptron Comparison')\n",
        "ax.set_xticks(x)\n",
        "plt.xlabel('Learning Rate')\n",
        "ax.set_xticklabels(objects)\n",
        "ax.legend()\n",
        "\n",
        "plt.show()"
      ],
      "execution_count": 11,
      "outputs": [
        {
          "output_type": "stream",
          "text": [
            "\n",
            "-----Initial Weight Vector random:----- \n",
            "\n",
            "\n",
            "Learning rate:  0.1\n",
            "\t--single update--\n",
            "\tWeights:  [[ 6.96509192 -4.29932258  3.14171498 -1.18253014 -6.71380795  2.24044156]] \n",
            "\tIterations:  150\n",
            "\n",
            "\t--batch update--\n",
            "\tWeights:  [[ 6.76132958 -4.45763405  3.16496174 -0.71756745 -6.07679786  1.33681269]] \n",
            "\tIterations:  116\n",
            "\n",
            "Learning rate:  0.2\n",
            "\t--single update--\n",
            "\tWeights:  [[ 13.1957749   -8.33257156   5.68512627  -2.31521831 -12.36606218\n",
            "    4.65327899]] \n",
            "\tIterations:  142\n",
            "\n",
            "\t--batch update--\n",
            "\tWeights:  [[10.8548261  -7.28477366  4.84340115 -0.62395938 -8.90405639  1.3289041 ]] \n",
            "\tIterations:  77\n",
            "\n",
            "Learning rate:  0.30000000000000004\n",
            "\t--single update--\n",
            "\tWeights:  [[ 20.35937198 -12.70668109   8.58227858  -3.69616923 -19.50427018\n",
            "    7.58501574]] \n",
            "\tIterations:  149\n",
            "\n",
            "\t--batch update--\n",
            "\tWeights:  [[ 20.04839518 -13.61135288   8.86233835  -1.72096661 -17.32911361\n",
            "    4.07150982]] \n",
            "\tIterations:  117\n",
            "\n",
            "Learning rate:  0.4\n",
            "\t--single update--\n",
            "\tWeights:  [[ 25.43746203 -15.84784395  10.66062558  -4.75193202 -24.24642181\n",
            "    8.85845231]] \n",
            "\tIterations:  136\n",
            "\n",
            "\t--batch update--\n",
            "\tWeights:  [[ 27.09514359 -18.14682578  11.39284522  -1.71913788 -23.14567354\n",
            "    5.2119227 ]] \n",
            "\tIterations:  117\n",
            "\n",
            "Learning rate:  0.5\n",
            "\t--single update--\n",
            "\tWeights:  [[ 35.20553861 -21.54871198  14.77589937  -6.00515108 -34.00980356\n",
            "   11.68865679]] \n",
            "\tIterations:  153\n",
            "\n",
            "\t--batch update--\n",
            "\tWeights:  [[ 29.90846281 -19.54822686  12.64888762  -1.83752636 -25.50807073\n",
            "    5.13838762]] \n",
            "\tIterations:  93\n",
            "\n",
            "Learning rate:  0.6\n",
            "\t--single update--\n",
            "\tWeights:  [[ 39.81712454 -23.84517911  16.73817472  -7.179242   -37.67933933\n",
            "   12.63054461]] \n",
            "\tIterations:  141\n",
            "\n",
            "\t--batch update--\n",
            "\tWeights:  [[ 41.92954089 -27.07727436  17.25401458  -3.42975427 -36.4149772\n",
            "    7.9315723 ]] \n",
            "\tIterations:  124\n",
            "\n",
            "Learning rate:  0.7000000000000001\n",
            "\t--single update--\n",
            "\tWeights:  [[ 49.92108373 -31.03697004  19.71162051  -7.76880774 -46.18973029\n",
            "   17.60399049]] \n",
            "\tIterations:  156\n",
            "\n",
            "\t--batch update--\n",
            "\tWeights:  [[ 46.94061042 -31.07525007  19.50662648  -2.8172228  -40.42883529\n",
            "   10.11905673]] \n",
            "\tIterations:  116\n",
            "\n",
            "Learning rate:  0.8\n",
            "\t--single update--\n",
            "\tWeights:  [[ 50.34555694 -31.93107109  21.90564018  -8.68277004 -47.50674539\n",
            "   16.86701665]] \n",
            "\tIterations:  136\n",
            "\n",
            "\t--batch update--\n",
            "\tWeights:  [[ 49.78546305 -33.31598857  20.95849644  -3.24206452 -41.25773134\n",
            "    9.45396493]] \n",
            "\tIterations:  101\n",
            "\n",
            "Learning rate:  0.9\n",
            "\t--single update--\n",
            "\tWeights:  [[ 63.61556473 -40.5647713   25.91288042 -10.14823702 -60.14939231\n",
            "   22.6601982 ]] \n",
            "\tIterations:  157\n",
            "\n",
            "\t--batch update--\n",
            "\tWeights:  [[ 66.74690197 -43.05925351  27.84652227  -6.49168935 -58.42064082\n",
            "   14.04261301]] \n",
            "\tIterations:  139\n",
            "\n",
            "Learning rate:  1.0\n",
            "\t--single update--\n",
            "\tWeights:  [[ 70.10567399 -44.62736115  28.81609512 -11.50531636 -66.99888857\n",
            "   25.69731283]] \n",
            "\tIterations:  157\n",
            "\n",
            "\t--batch update--\n",
            "\tWeights:  [[ 62.11879771 -40.85554156  25.50339931  -3.53757396 -52.57782597\n",
            "   12.4498867 ]] \n",
            "\tIterations:  101\n",
            "╒═════════════════════════╤═════════════════╤══════════════════╕\n",
            "│   Alpha (Learning Rate) │   One at a time │   Many at a time │\n",
            "╞═════════════════════════╪═════════════════╪══════════════════╡\n",
            "│                    0.10 │          150.00 │           116.00 │\n",
            "├─────────────────────────┼─────────────────┼──────────────────┤\n",
            "│                    0.20 │          142.00 │            77.00 │\n",
            "├─────────────────────────┼─────────────────┼──────────────────┤\n",
            "│                    0.30 │          149.00 │           117.00 │\n",
            "├─────────────────────────┼─────────────────┼──────────────────┤\n",
            "│                    0.40 │          136.00 │           117.00 │\n",
            "├─────────────────────────┼─────────────────┼──────────────────┤\n",
            "│                    0.50 │          153.00 │            93.00 │\n",
            "├─────────────────────────┼─────────────────┼──────────────────┤\n",
            "│                    0.60 │          141.00 │           124.00 │\n",
            "├─────────────────────────┼─────────────────┼──────────────────┤\n",
            "│                    0.70 │          156.00 │           116.00 │\n",
            "├─────────────────────────┼─────────────────┼──────────────────┤\n",
            "│                    0.80 │          136.00 │           101.00 │\n",
            "├─────────────────────────┼─────────────────┼──────────────────┤\n",
            "│                    0.90 │          157.00 │           139.00 │\n",
            "├─────────────────────────┼─────────────────┼──────────────────┤\n",
            "│                    1.00 │          157.00 │           101.00 │\n",
            "╘═════════════════════════╧═════════════════╧══════════════════╛\n"
          ],
          "name": "stdout"
        },
        {
          "output_type": "display_data",
          "data": {
            "image/png": "[encoded data removed]",
            "text/plain": [
              "<Figure size 432x288 with 1 Axes>"
            ]
          },
          "metadata": {
            "tags": [],
            "needs_background": "light"
          }
        }
      ]
    }
  ]
}